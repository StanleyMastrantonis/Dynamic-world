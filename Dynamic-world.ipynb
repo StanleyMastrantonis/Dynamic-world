{
 "cells": [
  {
   "cell_type": "code",
   "execution_count": null,
   "id": "6bdd1cb8-3d96-421a-8793-7a6f9ba1fb8e",
   "metadata": {},
   "outputs": [],
   "source": [
    "import os\n",
    "import ee\n",
    "import geemap\n",
    "import geedim\n",
    "import geetools\n",
    "import fiona\n",
    "from osgeo import gdal\n",
    "import pandas as pd\n",
    "import geopandas as gpd \n",
    "import folium\n",
    "from folium.plugins import MiniMap\n",
    "import json\n",
    "import os\n",
    "import requests\n",
    "from geemap import geojson_to_ee, ee_to_geojson\n",
    "from ipyleaflet import GeoJSON"
   ]
  },
  {
   "cell_type": "code",
   "execution_count": null,
   "id": "615532de-0b42-44e9-9f10-971f83a2f362",
   "metadata": {},
   "outputs": [],
   "source": [
    "#os.environ[\"R_HOME\"] = r\"C:\\Users\\00097030\\Anaconda3\\envs\\geemap\\Lib\\R\" # change as needed\n",
    "import rpy2\n",
    "import rpy2.robjects as robjects\n",
    "#import rpy2.ipython.html\n",
    "#rpy2.ipython.html.init_printing()\n",
    "#from rpy2.ipython.ggplot import image_png"
   ]
  },
  {
   "cell_type": "code",
   "execution_count": null,
   "id": "6482b552-a1bd-4fee-b5d2-3648e563d345",
   "metadata": {},
   "outputs": [],
   "source": [
    "#df = pd.DataFrame()\\\n",
    "ee.Initialize()"
   ]
  },
  {
   "cell_type": "code",
   "execution_count": null,
   "id": "1c67a130-925c-4366-b637-35a33bd8233c",
   "metadata": {},
   "outputs": [],
   "source": [
    "geemap.show_youtube('OlNlqfj4uHo')"
   ]
  },
  {
   "cell_type": "code",
   "execution_count": null,
   "id": "d6060af0-aa01-44bb-8615-d9e5620d81bd",
   "metadata": {},
   "outputs": [],
   "source": [
    "cpes_path = 'C:/Users/00097030/LocalData/Spatial Data/CPES/geojson/geojsoncpes.geojson'\n",
    "cpes_path_shp = 'C:/Users/00097030/LocalData/Spatial Data/CPES/shp/CPES_wgs.shp'"
   ]
  },
  {
   "cell_type": "code",
   "execution_count": null,
   "id": "241e1b0b-5d82-4ba0-895c-c9e67eb02dc0",
   "metadata": {},
   "outputs": [],
   "source": [
    "cpes_ee = geemap.shp_to_ee(cpes_path_shp)"
   ]
  },
  {
   "cell_type": "code",
   "execution_count": null,
   "id": "d2cc120c-205f-4560-b602-cbc6fa46cd17",
   "metadata": {},
   "outputs": [],
   "source": []
  },
  {
   "cell_type": "code",
   "execution_count": null,
   "id": "9d6fb93f-91fa-4d29-9bf8-907e095968b8",
   "metadata": {},
   "outputs": [],
   "source": [
    "cpes = gpd.read_file('C:/Users/00097030/LocalData/Spatial Data/CPES/shp/CPES_ag.shp')"
   ]
  },
  {
   "cell_type": "code",
   "execution_count": null,
   "id": "f7ac734b-0679-4f2b-ba47-b3fdddc20123",
   "metadata": {},
   "outputs": [],
   "source": [
    "cpes.to_file(cpes_path, driver='GeoJSON')"
   ]
  },
  {
   "cell_type": "code",
   "execution_count": null,
   "id": "49a8955f-1073-4495-85ee-db0c958d6e49",
   "metadata": {},
   "outputs": [],
   "source": [
    "geemap.show_youtube('OlNlqfj4uHo')"
   ]
  },
  {
   "cell_type": "code",
   "execution_count": null,
   "id": "51bb5840-259f-48c9-a5c7-e3df2d8492f5",
   "metadata": {},
   "outputs": [],
   "source": [
    "####AOI######\n",
    "path_to_aoi = 'C:/Users/00097030/LocalData/Spatial Data/Australia States/Australia_simple/WA_simple.shp'\n",
    "AOI = geemap.shp_to_ee(path_to_aoi)\n",
    " "
   ]
  },
  {
   "cell_type": "code",
   "execution_count": null,
   "id": "ce718865-3ae0-480b-a2cd-5eca58749c60",
   "metadata": {},
   "outputs": [],
   "source": [
    "geemap.ee_search()"
   ]
  },
  {
   "cell_type": "code",
   "execution_count": null,
   "id": "6763434a-4da8-4002-bde9-d7c59aff74b6",
   "metadata": {},
   "outputs": [],
   "source": [
    "Map = geemap.Map(center=[-31,115], zoom=4)\n",
    "Map.add_basemap('HYBRID')\n",
    "Map.add_minimap(zoom=6)\n",
    "Map.addLayer(AOI)\n",
    "#minimap = MiniMap(tile_layer=\"Stamen Toner\")\n",
    "#minimap.add_to(Map)\n",
    "Map"
   ]
  },
  {
   "cell_type": "code",
   "execution_count": null,
   "id": "f2d7ca95-c0f4-4af3-b767-e50afb8385ec",
   "metadata": {},
   "outputs": [],
   "source": [
    "with open(cpes_path) as f:\n",
    "    json_data = json.load(f)\n",
    "    \n",
    "#GeoJSON() \n"
   ]
  },
  {
   "cell_type": "code",
   "execution_count": null,
   "id": "f8ef1f2f-ccb6-4ea8-95a0-b06a981c7fbb",
   "metadata": {},
   "outputs": [],
   "source": [
    "json_layer = GeoJSON(\n",
    "    data=json_data,\n",
    "    name='CPES',\n",
    "    style = {'color': 'red',\n",
    "             'weight': 2,\n",
    "             'fillColor': 'red', \n",
    "             'fillOpacity': 0}\n",
    "    #hover_style={'fillColor': 'red', 'fillOpacity': 0.5},\n",
    ")\n"
   ]
  },
  {
   "cell_type": "code",
   "execution_count": null,
   "id": "b2a44a89-28e8-4dba-8d94-b87a74a978a7",
   "metadata": {},
   "outputs": [],
   "source": [
    "ee_cpes = geojson_to_ee(cpes_ee)\n"
   ]
  },
  {
   "cell_type": "code",
   "execution_count": null,
   "id": "3bb126d4-96d2-4c9b-b799-a88f6d1a0774",
   "metadata": {},
   "outputs": [],
   "source": [
    "Map.add_layer(cpes_ee)"
   ]
  },
  {
   "cell_type": "code",
   "execution_count": null,
   "id": "f82c058f-81f8-4717-a46e-46e1959a3e9d",
   "metadata": {},
   "outputs": [],
   "source": [
    "Map.draw_features"
   ]
  },
  {
   "cell_type": "code",
   "execution_count": null,
   "id": "2536e6cf-b355-4e61-af5b-f58d4f7a92a6",
   "metadata": {},
   "outputs": [],
   "source": [
    "roi = ee.FeatureCollection(Map.draw_features)"
   ]
  },
  {
   "cell_type": "code",
   "execution_count": null,
   "id": "95c33caa-0e49-4c36-ab0b-38286cba0fde",
   "metadata": {},
   "outputs": [],
   "source": [
    "# Set the date range\n",
    "start_date = '2020-01-01'\n",
    "end_date = '2022-01-31'"
   ]
  },
  {
   "cell_type": "code",
   "execution_count": null,
   "id": "1590d127-11de-47d8-aba4-b3476e2e7755",
   "metadata": {},
   "outputs": [],
   "source": [
    "S2 = (\n",
    "    ee.ImageCollection('COPERNICUS/S2_SR')\n",
    "    .filterBounds(roi)\n",
    "    .filterMetadata('CLOUDY_PIXEL_PERCENTAGE', 'less_than', 10)\n",
    "    .filterDate(start_date, end_date)\n",
    "    .median()\n",
    ")\n",
    "\n",
    "S2_clip = S2.clip(roi)\n",
    "\n",
    "vis_params = {'bands': ['B4', 'B3', 'B2'], 'min': 0, 'max': 3000}\n",
    "ndvi = S2_clip.normalizedDifference(['B8', 'B4']).rename('NDVI')\n",
    "Map.addLayer(S2_clip, vis_params, 'Sentinel-2 image')\n",
    "\n",
    "ndviParams = {'min': -0.5,\n",
    "              'max': 0.5,\n",
    "              'palette': ['red','orange','yellow','green']}\n",
    "\n",
    "Map.addLayer(ndvi, ndviParams, 'NDVI')\n"
   ]
  },
  {
   "cell_type": "code",
   "execution_count": null,
   "id": "63d2f40d-2d13-4c5f-85fb-2201fa6cef35",
   "metadata": {},
   "outputs": [],
   "source": [
    "Map"
   ]
  },
  {
   "cell_type": "code",
   "execution_count": null,
   "id": "c2658db1-48e0-494f-b10e-44d1662411d3",
   "metadata": {},
   "outputs": [],
   "source": [
    "# Create a Sentinel-2 image composite\n",
    "image = geemap.dynamic_world_s2(roi, start_date, end_date)\n",
    "vis_params = {'bands': ['B4', 'B3', 'B2'], 'min': 0, 'max': 3000}\n",
    "#Map.addLayer(image, vis_params, 'Sentinel-2 image')"
   ]
  },
  {
   "cell_type": "code",
   "execution_count": null,
   "id": "935b1760-d594-4797-9da3-cb4b1f93b6ec",
   "metadata": {},
   "outputs": [],
   "source": [
    "# Create Dynamic World land cover composite\n",
    "# return_type='hillshade'\n",
    "landcover = geemap.dynamic_world(roi, start_date, end_date, return_type=\"visualize\").clip(roi)\n",
    "\n",
    "Map.addLayer(landcover, {}, 'Land Cover')\n",
    "Map"
   ]
  },
  {
   "cell_type": "code",
   "execution_count": null,
   "id": "e96dd637-4772-436e-b496-b8879ecfaefd",
   "metadata": {},
   "outputs": [],
   "source": [
    "props = landcover.toDictionary().getInfo()\n",
    "print(props)\n",
    "\n",
    "bandNames = landcover.bandNames()\n",
    "print('Band names: ', bandNames.getInfo())"
   ]
  },
  {
   "cell_type": "code",
   "execution_count": null,
   "id": "b4d0bb91-3e0e-44b0-9bb3-2e0361062d15",
   "metadata": {},
   "outputs": [],
   "source": [
    "c_image = S2_clip.select('B4','B3','B2')\n",
    "#c_image = S2_clip.select('B4','B3','B2')\n",
    "# Perform Canny edge detection and display the result.\n",
    "canny = ee.Algorithms.CannyEdgeDetector(**{\n",
    "  'image': c_image, 'threshold': 10, 'sigma': 1\n",
    "})\n",
    "#Map.setCenter(-122.054, 37.7295, 10)\n",
    "Map.addLayer(canny, {}, 'canny')\n",
    "\n",
    "# Perform Hough transform of the Canny result and display.\n",
    "hough = ee.Algorithms.HoughTransform(canny, 256, 600, 100)\n",
    "Map.addLayer(hough, {}, 'hough')\n",
    "\n",
    "fat = ee.Kernel.gaussian(**{\n",
    "  'radius': 3,\n",
    "  'sigma': 3,\n",
    "  'units': 'pixels',\n",
    "  'normalize': True,\n",
    "  'magnitude': -1\n",
    "})\n",
    "\n",
    "# Define a \"skinny\" Gaussian kernel.\n",
    "skinny = ee.Kernel.gaussian(**{\n",
    "  'radius': 3,\n",
    "  'sigma': 1,\n",
    "  'units': 'pixels',\n",
    "  'normalize': True,\n",
    "})\n",
    "\n",
    "# Compute a difference-of-Gaussians (DOG) kernel.\n",
    "dog = fat.add(skinny)\n",
    "\n",
    "# Compute the zero crossings of the second derivative, display.\n",
    "zeroXings = c_image.convolve(dog).zeroCrossing()\n",
    "#Map.setCenter(-122.054, 37.7295, 10)\n",
    "Map.addLayer(zeroXings.updateMask(zeroXings), {}, 'zero crossings')\n",
    "Map"
   ]
  },
  {
   "cell_type": "code",
   "execution_count": null,
   "id": "298762c4-becf-4abb-905c-c77d0ad4460e",
   "metadata": {},
   "outputs": [],
   "source": [
    "# Load a Landsat 8 image, select the panchromatic band.\n",
    "image = ee.Image('LANDSAT/LC08/C01/T1/LC08_044034_20140318').select('B8')\n",
    "Map.addLayer(image, {'max': 12000})\n",
    "\n",
    "# Define a \"fat\" Gaussian kernel.\n",
    "fat = ee.Kernel.gaussian(**{\n",
    "  'radius': 3,\n",
    "  'sigma': 3,\n",
    "  'units': 'pixels',\n",
    "  'normalize': True,\n",
    "  'magnitude': -1\n",
    "})\n",
    "\n",
    "# Define a \"skinny\" Gaussian kernel.\n",
    "skinny = ee.Kernel.gaussian(**{\n",
    "  'radius': 3,\n",
    "  'sigma': 1,\n",
    "  'units': 'pixels',\n",
    "  'normalize': True,\n",
    "})\n",
    "\n",
    "# Compute a difference-of-Gaussians (DOG) kernel.\n",
    "dog = fat.add(skinny)\n",
    "\n",
    "# Compute the zero crossings of the second derivative, display.\n",
    "zeroXings = image.convolve(dog).zeroCrossing()\n",
    "Map.setCenter(-122.054, 37.7295, 10)\n",
    "Map.addLayer(zeroXings.updateMask(zeroXings), {'palette': 'FF0000'}, 'zero crossings')\n",
    "\n",
    "\n",
    "# Display the map.\n",
    "Map"
   ]
  },
  {
   "cell_type": "code",
   "execution_count": null,
   "id": "eb65f04d-3874-47bc-87e0-76c70888f82c",
   "metadata": {},
   "outputs": [],
   "source": [
    "dwCol = (\n",
    "    ee.ImageCollection('GOOGLE/DYNAMICWORLD/V1')\n",
    "    .filterBounds(AOI)\n",
    "    .filterDate(start_date, end_date)\n",
    ")\n"
   ]
  },
  {
   "cell_type": "code",
   "execution_count": null,
   "id": "1225d524-4ab5-4399-8135-a441c545cc59",
   "metadata": {},
   "outputs": [],
   "source": [
    "CLASS_NAMES = [\n",
    "    'water', 'trees', 'grass', 'flooded_vegetation', 'crops',\n",
    "    'shrub_and_scrub', 'built', 'bare', 'snow_and_ice']"
   ]
  },
  {
   "cell_type": "code",
   "execution_count": null,
   "id": "2b4b7d86-0be8-4667-8d4d-65903f316afd",
   "metadata": {},
   "outputs": [],
   "source": [
    "VIS_PALETTE = [\n",
    "    '419BDF', '397D49', '88B053', '7A87C6',\n",
    "    'E49635', 'DFC35A', 'C4281B', 'A59B8F',\n",
    "    'B39FE1']"
   ]
  },
  {
   "cell_type": "code",
   "execution_count": null,
   "id": "5764d7d4-8c45-4793-ac27-02ed15952256",
   "metadata": {},
   "outputs": [],
   "source": [
    "dwImage = ee.Image(dwCol.first())\n",
    "\n",
    "#Map.addLayer(dwCol, {}, 'DW')\n",
    "#Map"
   ]
  },
  {
   "cell_type": "code",
   "execution_count": null,
   "id": "b7b74a57-18c5-45a5-9a6f-e9f31c3d6252",
   "metadata": {},
   "outputs": [],
   "source": [
    "top1Prob = dwImage.select(CLASS_NAMES).reduce(ee.Reducer.max())"
   ]
  },
  {
   "cell_type": "code",
   "execution_count": null,
   "id": "40093a24-956f-400b-975a-c660984ad633",
   "metadata": {},
   "outputs": [],
   "source": [
    "vis_params = {\n",
    "    \"min\": 0,\n",
    "    \"max\": 8,\n",
    "    \"palette\": [\n",
    "        \"#419BDF\",\n",
    "        \"#397D49\",\n",
    "        \"#88B053\",\n",
    "        \"#7A87C6\",\n",
    "        \"#E49635\",\n",
    "        \"#DFC35A\",\n",
    "        \"#C4281B\",\n",
    "        \"#A59B8F\",\n",
    "        \"#B39FE1\",\n",
    "    ],\n",
    "}\n",
    "\n",
    "dwRgb = (\n",
    "     dwImage\n",
    "    .select('label')\n",
    "    .visualize({vis_params})\n",
    "    .divide(255)\n",
    ")"
   ]
  },
  {
   "cell_type": "code",
   "execution_count": null,
   "id": "505f815d-bef8-4d1c-8a27-431ba5c2927b",
   "metadata": {},
   "outputs": [],
   "source": [
    "Map.addLayer(\n",
    "    top1Prob,\n",
    "    {min: 0, max: 0.65},\n",
    "    'Dynamic World')\n",
    "\n",
    "Map"
   ]
  },
  {
   "cell_type": "code",
   "execution_count": null,
   "id": "9fbbf692-217e-4714-822e-207d1ccace1b",
   "metadata": {},
   "outputs": [],
   "source": [
    "tn = (landcover.filter(ee.Filter.eq(\"NAME\", 'Tennessee'))\n",
    "    .first()\n",
    ")\n"
   ]
  },
  {
   "cell_type": "code",
   "execution_count": null,
   "id": "5facaaf9-8665-42d1-9339-5c188324671d",
   "metadata": {},
   "outputs": [],
   "source": [
    "# Add legend to the map\n",
    "Map.add_legend(title=\"Dynamic World Land Cover\", builtin_legend='Dynamic_World')\n",
    "#Map"
   ]
  },
  {
   "cell_type": "code",
   "execution_count": null,
   "id": "6c8db6a0-83d8-42dc-bac3-94397aa49645",
   "metadata": {},
   "outputs": [],
   "source": [
    "fishnet = geemap.fishnet(AOI, h_interval=0.1, v_interval=0.1, delta=1)"
   ]
  },
  {
   "cell_type": "code",
   "execution_count": null,
   "id": "47ddb1ab-7e9c-4933-a496-c808203515d2",
   "metadata": {},
   "outputs": [],
   "source": [
    "Map.addLayer(fishnet, {}, 'Fishnet 1')\n",
    "Map"
   ]
  },
  {
   "cell_type": "code",
   "execution_count": null,
   "id": "775be1af-e218-4850-b71d-399aceb48048",
   "metadata": {},
   "outputs": [],
   "source": [
    "out_dir = os.path.expanduser('C:/Users/00097030/LocalData/Spatial Data/Dynamic world')"
   ]
  },
  {
   "cell_type": "code",
   "execution_count": null,
   "id": "1a529e81-9734-497f-8078-506bebe7f2f5",
   "metadata": {},
   "outputs": [],
   "source": [
    "geemap.download_ee_image_tiles(\n",
    "    landcover, fishnet, out_dir, prefix=\"LandCover_\", crs=\"EPSG:4326\", scale=20\n",
    ")"
   ]
  },
  {
   "cell_type": "code",
   "execution_count": null,
   "id": "82c572cc-dc28-4d45-ac10-544b0990cfda",
   "metadata": {},
   "outputs": [],
   "source": [
    "%load_ext rpy2.ipython"
   ]
  },
  {
   "cell_type": "code",
   "execution_count": null,
   "id": "df30a3c7-7317-414d-8106-7b3f7bd72dcc",
   "metadata": {},
   "outputs": [],
   "source": []
  }
 ],
 "metadata": {
  "kernelspec": {
   "display_name": "Python 3 (ipykernel)",
   "language": "python",
   "name": "python3"
  },
  "language_info": {
   "codemirror_mode": {
    "name": "ipython",
    "version": 3
   },
   "file_extension": ".py",
   "mimetype": "text/x-python",
   "name": "python",
   "nbconvert_exporter": "python",
   "pygments_lexer": "ipython3",
   "version": "3.9.12"
  }
 },
 "nbformat": 4,
 "nbformat_minor": 5
}
