{
 "cells": [
  {
   "cell_type": "code",
   "execution_count": null,
   "id": "6bdd1cb8-3d96-421a-8793-7a6f9ba1fb8e",
   "metadata": {},
   "outputs": [],
   "source": [
    "import os\n",
    "import ee\n",
    "import geemap\n",
    "import geedim\n",
    "import geetools\n",
    "import fiona\n",
    "from osgeo import gdal\n",
    "import pandas as pd\n",
    "import geopandas as gpd \n",
    "import folium\n",
    "from folium.plugins import MiniMap\n",
    "import json\n",
    "import os\n",
    "import requests\n",
    "from geemap import geojson_to_ee, ee_to_geojson\n",
    "from ipyleaflet import GeoJSON"
   ]
  },
  {
   "cell_type": "code",
   "execution_count": null,
   "id": "6482b552-a1bd-4fee-b5d2-3648e563d345",
   "metadata": {},
   "outputs": [],
   "source": [
    "#df = pd.DataFrame()"
   ]
  },
  {
   "cell_type": "code",
   "execution_count": null,
   "id": "d6060af0-aa01-44bb-8615-d9e5620d81bd",
   "metadata": {},
   "outputs": [],
   "source": [
    "cpes_path = 'C:/Users/00097030/LocalData/Spatial Data/CPES/geojson/geojsoncpes.geojson'"
   ]
  },
  {
   "cell_type": "code",
   "execution_count": null,
   "id": "9d6fb93f-91fa-4d29-9bf8-907e095968b8",
   "metadata": {},
   "outputs": [],
   "source": [
    "cpes = gpd.read_file('C:/Users/00097030/LocalData/Spatial Data/CPES/shp/CPES_ag.shp')\n",
    "cpes.to_file(cpes_path, driver='GeoJSON')"
   ]
  },
  {
   "cell_type": "code",
   "execution_count": null,
   "id": "f7ac734b-0679-4f2b-ba47-b3fdddc20123",
   "metadata": {},
   "outputs": [],
   "source": [
    "ee.Initialize()"
   ]
  },
  {
   "cell_type": "code",
   "execution_count": null,
   "id": "49a8955f-1073-4495-85ee-db0c958d6e49",
   "metadata": {},
   "outputs": [],
   "source": [
    "geemap.show_youtube('OlNlqfj4uHo')"
   ]
  },
  {
   "cell_type": "code",
   "execution_count": null,
   "id": "51bb5840-259f-48c9-a5c7-e3df2d8492f5",
   "metadata": {},
   "outputs": [],
   "source": [
    "####AOI######\n",
    "path_to_aoi = 'C:/Users/00097030/LocalData/Spatial Data/Australia States/Australia_simple/WA_simple.shp'\n",
    "AOI = geemap.shp_to_ee(path_to_aoi)\n",
    " "
   ]
  },
  {
   "cell_type": "code",
   "execution_count": null,
   "id": "6763434a-4da8-4002-bde9-d7c59aff74b6",
   "metadata": {},
   "outputs": [],
   "source": [
    "Map = geemap.Map()\n",
    "Map.add_basemap('HYBRID')\n",
    "Map.add_minimap()\n",
    "#minimap = MiniMap(tile_layer=\"Stamen Toner\")\n",
    "#minimap.add_to(Map)\n",
    "Map"
   ]
  },
  {
   "cell_type": "code",
   "execution_count": null,
   "id": "f2d7ca95-c0f4-4af3-b767-e50afb8385ec",
   "metadata": {},
   "outputs": [],
   "source": [
    "with open(cpes_path) as f:\n",
    "    json_data = json.load(f)\n",
    "    \n",
    "#GeoJSON() \n",
    "\n",
    "json_layer = GeoJSON(\n",
    "    data=json_data,\n",
    "    name='CPES',\n",
    "    style = {'color': 'red',\n",
    "             'weight': 2,\n",
    "             'fillColor': 'red', \n",
    "             'fillOpacity': 0}\n",
    "    #hover_style={'fillColor': 'red', 'fillOpacity': 0.5},\n",
    ")\n",
    "\n"
   ]
  },
  {
   "cell_type": "code",
   "execution_count": null,
   "id": "b2a44a89-28e8-4dba-8d94-b87a74a978a7",
   "metadata": {},
   "outputs": [],
   "source": [
    "ee_cpes = geojson_to_ee(json_data)\n"
   ]
  },
  {
   "cell_type": "code",
   "execution_count": null,
   "id": "3bb126d4-96d2-4c9b-b799-a88f6d1a0774",
   "metadata": {},
   "outputs": [],
   "source": [
    "Map.add_layer(ee_cpes)"
   ]
  },
  {
   "cell_type": "code",
   "execution_count": null,
   "id": "f82c058f-81f8-4717-a46e-46e1959a3e9d",
   "metadata": {},
   "outputs": [],
   "source": [
    "Map.draw_features"
   ]
  },
  {
   "cell_type": "code",
   "execution_count": null,
   "id": "95c33caa-0e49-4c36-ab0b-38286cba0fde",
   "metadata": {},
   "outputs": [],
   "source": [
    "Map = geemap.Map()\n",
    "Map.add_basemap('HYBRID')\n",
    "#Map.addLayer(AOI, {}, 'ROI')\n",
    "#Map\n"
   ]
  },
  {
   "cell_type": "code",
   "execution_count": null,
   "id": "c981a647-3009-4292-9998-faeb9168f2cb",
   "metadata": {},
   "outputs": [],
   "source": [
    "# Set the date range\n",
    "start_date = '2021-01-01'\n",
    "end_date = '2022-01-31'"
   ]
  },
  {
   "cell_type": "code",
   "execution_count": null,
   "id": "c2658db1-48e0-494f-b10e-44d1662411d3",
   "metadata": {},
   "outputs": [],
   "source": [
    "# Create a Sentinel-2 image composite\n",
    "image = geemap.dynamic_world_s2(AOI, start_date, end_date)\n",
    "vis_params = {'bands': ['B4', 'B3', 'B2'], 'min': 0, 'max': 3000}\n",
    "Map.addLayer(image, vis_params, 'Sentinel-2 image')"
   ]
  },
  {
   "cell_type": "code",
   "execution_count": null,
   "id": "935b1760-d594-4797-9da3-cb4b1f93b6ec",
   "metadata": {},
   "outputs": [],
   "source": [
    "# Create Dynamic World land cover composite\n",
    "# return_type='hillshade'\n",
    "landcover = geemap.dynamic_world(AOI, start_date, end_date, return_type=\"class\")\n",
    "\n",
    "Map.addLayer(landcover, {}, 'Land Cover')\n",
    "Map"
   ]
  },
  {
   "cell_type": "code",
   "execution_count": null,
   "id": "e96dd637-4772-436e-b496-b8879ecfaefd",
   "metadata": {},
   "outputs": [],
   "source": [
    "props = landcover.toDictionary().getInfo()\n",
    "print(props)\n",
    "\n",
    "bandNames = landcover.bandNames()\n",
    "print('Band names: ', bandNames.getInfo())"
   ]
  },
  {
   "cell_type": "code",
   "execution_count": null,
   "id": "eb65f04d-3874-47bc-87e0-76c70888f82c",
   "metadata": {},
   "outputs": [],
   "source": [
    "dwCol = (\n",
    "    ee.ImageCollection('GOOGLE/DYNAMICWORLD/V1')\n",
    "    .filterBounds(AOI)\n",
    "    .filterDate(start_date, end_date)\n",
    ")\n"
   ]
  },
  {
   "cell_type": "code",
   "execution_count": null,
   "id": "1225d524-4ab5-4399-8135-a441c545cc59",
   "metadata": {},
   "outputs": [],
   "source": [
    "CLASS_NAMES = [\n",
    "    'water', 'trees', 'grass', 'flooded_vegetation', 'crops',\n",
    "    'shrub_and_scrub', 'built', 'bare', 'snow_and_ice']"
   ]
  },
  {
   "cell_type": "code",
   "execution_count": null,
   "id": "2b4b7d86-0be8-4667-8d4d-65903f316afd",
   "metadata": {},
   "outputs": [],
   "source": [
    "VIS_PALETTE = [\n",
    "    '419BDF', '397D49', '88B053', '7A87C6',\n",
    "    'E49635', 'DFC35A', 'C4281B', 'A59B8F',\n",
    "    'B39FE1']"
   ]
  },
  {
   "cell_type": "code",
   "execution_count": null,
   "id": "5764d7d4-8c45-4793-ac27-02ed15952256",
   "metadata": {},
   "outputs": [],
   "source": [
    "dwImage = ee.Image(dwCol.first())\n",
    "\n",
    "#Map.addLayer(dwCol, {}, 'DW')\n",
    "#Map"
   ]
  },
  {
   "cell_type": "code",
   "execution_count": null,
   "id": "b7b74a57-18c5-45a5-9a6f-e9f31c3d6252",
   "metadata": {},
   "outputs": [],
   "source": [
    "top1Prob = dwImage.select(CLASS_NAMES).reduce(ee.Reducer.max())"
   ]
  },
  {
   "cell_type": "code",
   "execution_count": null,
   "id": "40093a24-956f-400b-975a-c660984ad633",
   "metadata": {},
   "outputs": [],
   "source": [
    "vis_params = {\n",
    "    \"min\": 0,\n",
    "    \"max\": 8,\n",
    "    \"palette\": [\n",
    "        \"#419BDF\",\n",
    "        \"#397D49\",\n",
    "        \"#88B053\",\n",
    "        \"#7A87C6\",\n",
    "        \"#E49635\",\n",
    "        \"#DFC35A\",\n",
    "        \"#C4281B\",\n",
    "        \"#A59B8F\",\n",
    "        \"#B39FE1\",\n",
    "    ],\n",
    "}\n",
    "\n",
    "dwRgb = (\n",
    "     dwImage\n",
    "    .select('label')\n",
    "    .visualize({vis_params})\n",
    "    .divide(255)\n",
    ")"
   ]
  },
  {
   "cell_type": "code",
   "execution_count": null,
   "id": "505f815d-bef8-4d1c-8a27-431ba5c2927b",
   "metadata": {},
   "outputs": [],
   "source": [
    "Map.addLayer(\n",
    "    top1Prob,\n",
    "    {min: 0, max: 0.65},\n",
    "    'Dynamic World')\n",
    "\n",
    "Map"
   ]
  },
  {
   "cell_type": "code",
   "execution_count": null,
   "id": "9fbbf692-217e-4714-822e-207d1ccace1b",
   "metadata": {},
   "outputs": [],
   "source": [
    "tn = (landcover.filter(ee.Filter.eq(\"NAME\", 'Tennessee'))\n",
    "    .first()\n",
    ")\n"
   ]
  },
  {
   "cell_type": "code",
   "execution_count": null,
   "id": "5facaaf9-8665-42d1-9339-5c188324671d",
   "metadata": {},
   "outputs": [],
   "source": [
    "# Add legend to the map\n",
    "Map.add_legend(title=\"Dynamic World Land Cover\", builtin_legend='Dynamic_World')\n",
    "#Map"
   ]
  },
  {
   "cell_type": "code",
   "execution_count": null,
   "id": "6c8db6a0-83d8-42dc-bac3-94397aa49645",
   "metadata": {},
   "outputs": [],
   "source": [
    "fishnet = geemap.fishnet(AOI, h_interval=0.1, v_interval=0.1, delta=1)"
   ]
  },
  {
   "cell_type": "code",
   "execution_count": null,
   "id": "47ddb1ab-7e9c-4933-a496-c808203515d2",
   "metadata": {},
   "outputs": [],
   "source": [
    "Map.addLayer(fishnet, {}, 'Fishnet 1')\n",
    "Map"
   ]
  },
  {
   "cell_type": "code",
   "execution_count": null,
   "id": "775be1af-e218-4850-b71d-399aceb48048",
   "metadata": {},
   "outputs": [],
   "source": [
    "out_dir = os.path.expanduser('C:/Users/00097030/LocalData/Spatial Data/Dynamic world')"
   ]
  },
  {
   "cell_type": "code",
   "execution_count": null,
   "id": "1a529e81-9734-497f-8078-506bebe7f2f5",
   "metadata": {},
   "outputs": [],
   "source": [
    "geemap.download_ee_image_tiles(\n",
    "    landcover, fishnet, out_dir, prefix=\"LandCover_\", crs=\"EPSG:4326\", scale=20\n",
    ")"
   ]
  },
  {
   "cell_type": "code",
   "execution_count": null,
   "id": "82c572cc-dc28-4d45-ac10-544b0990cfda",
   "metadata": {},
   "outputs": [],
   "source": []
  }
 ],
 "metadata": {
  "kernelspec": {
   "display_name": "Python 3 (ipykernel)",
   "language": "python",
   "name": "python3"
  },
  "language_info": {
   "codemirror_mode": {
    "name": "ipython",
    "version": 3
   },
   "file_extension": ".py",
   "mimetype": "text/x-python",
   "name": "python",
   "nbconvert_exporter": "python",
   "pygments_lexer": "ipython3",
   "version": "3.9.12"
  }
 },
 "nbformat": 4,
 "nbformat_minor": 5
}
